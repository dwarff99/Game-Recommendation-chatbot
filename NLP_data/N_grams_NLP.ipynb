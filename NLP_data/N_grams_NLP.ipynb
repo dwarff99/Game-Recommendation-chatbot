{
  "nbformat": 4,
  "nbformat_minor": 0,
  "metadata": {
    "colab": {
      "name": "N_grams_NLP.ipynb",
      "provenance": [],
      "collapsed_sections": []
    },
    "kernelspec": {
      "name": "python3",
      "display_name": "Python 3"
    }
  },
  "cells": [
    {
      "cell_type": "code",
      "metadata": {
        "id": "OcJlmECFqhiq",
        "colab_type": "code",
        "colab": {}
      },
      "source": [
        "import re"
      ],
      "execution_count": null,
      "outputs": []
    },
    {
      "cell_type": "code",
      "metadata": {
        "id": "GJSlvFr3N4u2",
        "colab_type": "code",
        "colab": {}
      },
      "source": [
        "#Natural Language Processing, or NLP for short, n-grams are used for a variety of things. Some examples include auto \n",
        "#completion of sentences (such as the one we see in Gmail these days), auto spell check (yes, we can do that as well), and to a \n",
        "#certain extent, we can check for grammar in a given sentence."
      ],
      "execution_count": null,
      "outputs": []
    },
    {
      "cell_type": "code",
      "metadata": {
        "id": "ChVH9wDWqk0-",
        "colab_type": "code",
        "colab": {}
      },
      "source": [
        "def N_Grams(text,n): \n",
        "    # split sentences into tokens\n",
        "    tokens=re.split(\"\\\\s+\",text)\n",
        "    ngrams=[] \n",
        "    # collect the n-grams\n",
        "    for i in range(len(tokens)-n+1):\n",
        "     temp=[tokens[j] for j in range(i,i+n)]\n",
        "     ngrams.append(\" \".join(temp)) \n",
        "    return ngrams"
      ],
      "execution_count": null,
      "outputs": []
    },
    {
      "cell_type": "code",
      "metadata": {
        "id": "LkIwOKdLLDGR",
        "colab_type": "code",
        "colab": {}
      },
      "source": [
        "text1=\"the quick brown fox jumps the lazy dog\";"
      ],
      "execution_count": null,
      "outputs": []
    },
    {
      "cell_type": "code",
      "metadata": {
        "id": "2JK_zXR4LcwV",
        "colab_type": "code",
        "colab": {
          "base_uri": "https://localhost:8080/",
          "height": 34
        },
        "outputId": "c0ea1c09-a4f4-4304-bc00-62ad8134b4b8"
      },
      "source": [
        "N_Grams(text1,1)"
      ],
      "execution_count": null,
      "outputs": [
        {
          "output_type": "execute_result",
          "data": {
            "text/plain": [
              "['the', 'quick', 'brown', 'fox', 'jumps', 'the', 'lazy', 'dog']"
            ]
          },
          "metadata": {
            "tags": []
          },
          "execution_count": 11
        }
      ]
    },
    {
      "cell_type": "code",
      "metadata": {
        "id": "4FGYganlLp20",
        "colab_type": "code",
        "colab": {
          "base_uri": "https://localhost:8080/",
          "height": 136
        },
        "outputId": "5042cdf7-bde6-4865-ccf9-53362aba99dc"
      },
      "source": [
        "N_Grams(text1,2)"
      ],
      "execution_count": null,
      "outputs": [
        {
          "output_type": "execute_result",
          "data": {
            "text/plain": [
              "['the quick',\n",
              " 'quick brown',\n",
              " 'brown fox',\n",
              " 'fox jumps',\n",
              " 'jumps the',\n",
              " 'the lazy',\n",
              " 'lazy dog']"
            ]
          },
          "metadata": {
            "tags": []
          },
          "execution_count": 12
        }
      ]
    },
    {
      "cell_type": "code",
      "metadata": {
        "id": "NI3o7NYAMC2D",
        "colab_type": "code",
        "colab": {
          "base_uri": "https://localhost:8080/",
          "height": 119
        },
        "outputId": "f580826b-ff8b-43f7-dafc-82f2f78fc908"
      },
      "source": [
        "N_Grams(text1,3)"
      ],
      "execution_count": null,
      "outputs": [
        {
          "output_type": "execute_result",
          "data": {
            "text/plain": [
              "['the quick brown',\n",
              " 'quick brown fox',\n",
              " 'brown fox jumps',\n",
              " 'fox jumps the',\n",
              " 'jumps the lazy',\n",
              " 'the lazy dog']"
            ]
          },
          "metadata": {
            "tags": []
          },
          "execution_count": 14
        }
      ]
    },
    {
      "cell_type": "code",
      "metadata": {
        "id": "pAAKwfChMEfD",
        "colab_type": "code",
        "colab": {}
      },
      "source": [
        ""
      ],
      "execution_count": null,
      "outputs": []
    }
  ]
}